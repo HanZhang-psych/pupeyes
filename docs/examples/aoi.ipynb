{
 "cells": [
  {
   "cell_type": "code",
   "execution_count": 9,
   "metadata": {},
   "outputs": [
    {
     "name": "stdout",
     "output_type": "stream",
     "text": [
      "The autoreload extension is already loaded. To reload it, use:\n",
      "  %reload_ext autoreload\n"
     ]
    }
   ],
   "source": [
    "from pupeyes.aoi import is_inside_singlepoint, is_inside, get_fixation_aoi, compute_aoi_statistics\n",
    "import pandas as pd\n",
    "import numpy as np\n",
    "\n",
    "# autoload\n",
    "%load_ext autoreload\n",
    "%autoreload 2"
   ]
  },
  {
   "cell_type": "code",
   "execution_count": 10,
   "metadata": {},
   "outputs": [],
   "source": [
    "# Create sample polygon data\n",
    "polygon = np.array([(0, 0), (1, 0), (1, 1), (0, 1), (0, 0)])\n",
    "points = np.array([\n",
    "    (0.5, 0.5),  # inside\n",
    "    (2, 2),      # outside\n",
    "    (0, 0),      # on vertex\n",
    "    (0.5, 0)     # on edge\n",
    "])"
   ]
  },
  {
   "cell_type": "code",
   "execution_count": 11,
   "metadata": {},
   "outputs": [
    {
     "data": {
      "text/plain": [
       "(1, 0, 2, 2)"
      ]
     },
     "execution_count": 11,
     "metadata": {},
     "output_type": "execute_result"
    }
   ],
   "source": [
    "is_inside_singlepoint(polygon, points[0]), is_inside_singlepoint(polygon, points[1]), is_inside_singlepoint(polygon, points[2]), is_inside_singlepoint(polygon, points[3])"
   ]
  },
  {
   "cell_type": "code",
   "execution_count": 12,
   "metadata": {},
   "outputs": [
    {
     "data": {
      "text/plain": [
       "array([ True, False,  True,  True])"
      ]
     },
     "execution_count": 12,
     "metadata": {},
     "output_type": "execute_result"
    }
   ],
   "source": [
    "is_inside(points, polygon)"
   ]
  }
 ],
 "metadata": {
  "kernelspec": {
   "display_name": "pupeyes_test",
   "language": "python",
   "name": "python3"
  },
  "language_info": {
   "codemirror_mode": {
    "name": "ipython",
    "version": 3
   },
   "file_extension": ".py",
   "mimetype": "text/x-python",
   "name": "python",
   "nbconvert_exporter": "python",
   "pygments_lexer": "ipython3",
   "version": "3.12.9"
  }
 },
 "nbformat": 4,
 "nbformat_minor": 2
}
